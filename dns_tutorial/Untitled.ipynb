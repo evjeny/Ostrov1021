{
 "cells": [
  {
   "cell_type": "code",
   "execution_count": 1,
   "metadata": {},
   "outputs": [],
   "source": [
    "import pandas as pd\n",
    "\n",
    "df = pd.read_csv('products_dns_sorted.csv').dropna()\n",
    "size = len(df)"
   ]
  },
  {
   "cell_type": "code",
   "execution_count": 2,
   "metadata": {},
   "outputs": [],
   "source": [
    "desc = df['description'][::2]\n",
    "trainY = df['category_id'][::2]"
   ]
  },
  {
   "cell_type": "code",
   "execution_count": 9,
   "metadata": {},
   "outputs": [],
   "source": [
    "from sklearn.feature_extraction.text import CountVectorizer\n",
    "\n",
    "cnt_vec = CountVectorizer()\n",
    "trainX = cnt_vec.fit_transform(desc)"
   ]
  },
  {
   "cell_type": "code",
   "execution_count": 5,
   "metadata": {},
   "outputs": [
    {
     "name": "stdout",
     "output_type": "stream",
     "text": [
      "0.8783\n"
     ]
    }
   ],
   "source": [
    "from sklearn.naive_bayes import MultinomialNB\n",
    "\n",
    "classifier = MultinomialNB().fit(trainX, trainY)\n",
    "print(\"{0:.4f}\".format(classifier.score(trainX, trainY)))"
   ]
  },
  {
   "cell_type": "code",
   "execution_count": 6,
   "metadata": {},
   "outputs": [
    {
     "name": "stdout",
     "output_type": "stream",
     "text": [
      "0.8566\n"
     ]
    }
   ],
   "source": [
    "testY = df['category_id'][1::2]\n",
    "testX = cnt_vec.transform(df['description'][1::2])\n",
    "\n",
    "print(\"{0:.4f}\".format(classifier.score(testX, testY)))"
   ]
  },
  {
   "cell_type": "code",
   "execution_count": 50,
   "metadata": {},
   "outputs": [
    {
     "name": "stdout",
     "output_type": "stream",
     "text": [
      "0.9992\n",
      "0.9529\n"
     ]
    }
   ],
   "source": [
    "from sklearn.tree import DecisionTreeClassifier\n",
    "\n",
    "dec_tree = DecisionTreeClassifier().fit(trainX, trainY)\n",
    "\n",
    "print(\"{0:.4f}\".format(dec_tree.score(trainX, trainY)))\n",
    "print(\"{0:.4f}\".format(dec_tree.score(testX, testY)))"
   ]
  },
  {
   "cell_type": "code",
   "execution_count": 8,
   "metadata": {},
   "outputs": [
    {
     "name": "stdout",
     "output_type": "stream",
     "text": [
      "0.9976\n",
      "0.9506\n"
     ]
    }
   ],
   "source": [
    "from sklearn.ensemble import RandomForestClassifier\n",
    "\n",
    "forest = RandomForestClassifier().fit(trainX, trainY)\n",
    "\n",
    "print(\"{0:.4f}\".format(forest.score(trainX, trainY)))\n",
    "print(\"{0:.4f}\".format(forest.score(testX, testY)))"
   ]
  },
  {
   "cell_type": "code",
   "execution_count": 10,
   "metadata": {},
   "outputs": [
    {
     "name": "stderr",
     "output_type": "stream",
     "text": [
      "/usr/local/lib/python3.6/site-packages/sklearn/linear_model/stochastic_gradient.py:128: FutureWarning: max_iter and tol parameters have been added in <class 'sklearn.linear_model.stochastic_gradient.SGDClassifier'> in 0.19. If both are left unset, they default to max_iter=5 and tol=None. If tol is not None, max_iter defaults to max_iter=1000. From 0.21, default max_iter will be 1000, and default tol will be 1e-3.\n",
      "  \"and default tol will be 1e-3.\" % type(self), FutureWarning)\n"
     ]
    },
    {
     "name": "stdout",
     "output_type": "stream",
     "text": [
      "0.9576\n",
      "0.9458\n"
     ]
    }
   ],
   "source": [
    "from sklearn.linear_model import SGDClassifier\n",
    "\n",
    "sgd = SGDClassifier().fit(trainX, trainY)\n",
    "\n",
    "print(\"{0:.4f}\".format(sgd.score(trainX, trainY)))\n",
    "print(\"{0:.4f}\".format(sgd.score(testX, testY)))"
   ]
  },
  {
   "cell_type": "code",
   "execution_count": 21,
   "metadata": {},
   "outputs": [
    {
     "data": {
      "text/plain": [
       "Index(['B24E00155D030B1F11E270E6F5145C0B', '938D00155D03330D11E7945E3C3A3C2D',\n",
       "       'B24E00155D030B1F11E270E6F5145BFB', '89CB00155D03120211E47FCF329B18E8',\n",
       "       'B24E00155D030B1F11E270E6F5145C74'],\n",
       "      dtype='object')"
      ]
     },
     "execution_count": 21,
     "metadata": {},
     "output_type": "execute_result"
    }
   ],
   "source": [
    "cnt.index[cnt >= 10000]"
   ]
  },
  {
   "cell_type": "code",
   "execution_count": 26,
   "metadata": {},
   "outputs": [],
   "source": [
    "cut_df = df[df.isin(cnt.index[cnt >= 10000]).values]\n",
    "\n",
    "vect = CountVectorizer()\n",
    "\n",
    "cut_trainY = cut_df['category_id'][::2]\n",
    "cut_trainX = vect.fit_transform(cut_df['description'][::2])\n",
    "\n",
    "cut_testY = cut_df['category_id'][1::2]\n",
    "cut_testX = vect.transform(cut_df['description'][1::2])"
   ]
  },
  {
   "cell_type": "code",
   "execution_count": 27,
   "metadata": {},
   "outputs": [
    {
     "name": "stdout",
     "output_type": "stream",
     "text": [
      "0.9999\n",
      "0.9985\n"
     ]
    }
   ],
   "source": [
    "from sklearn.tree import DecisionTreeClassifier\n",
    "\n",
    "dec_tree_ = DecisionTreeClassifier().fit(cut_trainX, cut_trainY)\n",
    "\n",
    "print(\"{0:.4f}\".format(dec_tree_.score(cut_trainX, cut_trainY)))\n",
    "print(\"{0:.4f}\".format(dec_tree_.score(cut_testX, cut_testY)))"
   ]
  },
  {
   "cell_type": "code",
   "execution_count": 29,
   "metadata": {},
   "outputs": [
    {
     "data": {
      "text/plain": [
       "array([[11523,     0,     0,     0,     0],\n",
       "       [    0, 14953,     6,     7,    25],\n",
       "       [    0,    15, 13549,     0,     0],\n",
       "       [    2,    22,     0, 21125,     3],\n",
       "       [    0,    20,     0,     2,  8719]])"
      ]
     },
     "execution_count": 29,
     "metadata": {},
     "output_type": "execute_result"
    }
   ],
   "source": [
    "from sklearn.metrics import confusion_matrix\n",
    "\n",
    "predicted = dec_tree_.predict(cut_testX)\n",
    "confusion_matrix(cut_testY, predicted)"
   ]
  },
  {
   "cell_type": "code",
   "execution_count": null,
   "metadata": {},
   "outputs": [],
   "source": []
  }
 ],
 "metadata": {
  "kernelspec": {
   "display_name": "Python 3",
   "language": "python",
   "name": "python3"
  },
  "language_info": {
   "codemirror_mode": {
    "name": "ipython",
    "version": 3
   },
   "file_extension": ".py",
   "mimetype": "text/x-python",
   "name": "python",
   "nbconvert_exporter": "python",
   "pygments_lexer": "ipython3",
   "version": "3.6.5"
  }
 },
 "nbformat": 4,
 "nbformat_minor": 2
}
